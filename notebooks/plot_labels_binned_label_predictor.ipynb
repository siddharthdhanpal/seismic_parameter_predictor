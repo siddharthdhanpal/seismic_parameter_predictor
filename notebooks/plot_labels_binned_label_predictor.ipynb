{
 "cells": [
  {
   "cell_type": "code",
   "execution_count": 1,
   "metadata": {},
   "outputs": [
    {
     "name": "stdout",
     "output_type": "stream",
     "text": [
      "tensorflow version 2.0.0\n"
     ]
    }
   ],
   "source": [
    "from tensorflow.python.keras.layers import deserialize\n",
    "import tensorflow as tf\n",
    "import os\n",
    "import numpy as np\n",
    "import matplotlib.pyplot as plt\n",
    "import time\n",
    "import yaml\n",
    "import skimage.measure\n",
    "print('tensorflow version',tf.__version__)"
   ]
  },
  {
   "cell_type": "code",
   "execution_count": 2,
   "metadata": {},
   "outputs": [],
   "source": [
    "#Using GPU\n",
    "os.environ[\"CUDA_VISIBLE_DEVICES\"] = \"0\"\n",
    "#config = tf.compat.v1.ConfigProto(gpu_options = tf.compat.v1.GPUOptions(per_process_gpu_memory_fraction=0.3))\n",
    "config = tf.compat.v1.ConfigProto()\n",
    "config.gpu_options.allow_growth = True\n",
    "session = tf.compat.v1.Session(config=config)"
   ]
  },
  {
   "cell_type": "code",
   "execution_count": 3,
   "metadata": {},
   "outputs": [],
   "source": [
    "bin_size   = 2 #In this model, the data is already binned to size 5k from original spectra of size 25k. This is additional binning.\n",
    "input_size= 5121//bin_size  \n",
    "num_output= input_size \n",
    "num_class = 4\n",
    "\n",
    "pos_enc  = False"
   ]
  },
  {
   "cell_type": "code",
   "execution_count": 4,
   "metadata": {},
   "outputs": [
    {
     "name": "stdout",
     "output_type": "stream",
     "text": [
      "Time taken for loading mode data= 0.885132 s\n",
      "loaded mode data and its shape is (100000,5121)\n",
      "Binned label data and its shape is (100000,2560)\n"
     ]
    }
   ],
   "source": [
    "start_time=time.time()\n",
    "labels    = np.load('./../binned_data/binned_labels_100k.npy') #shape=(examples,labels of each spectra=5121)\n",
    "end_time=time.time()\n",
    "print('Time taken for loading mode data= %f s'%(end_time-start_time))\n",
    "\n",
    "print('loaded mode data and its shape is (%d,%d)'%(labels.shape[0],labels.shape[1]))\n",
    "\n",
    "labels = skimage.measure.block_reduce(labels,block_size=(1,bin_size),func=np.min)[:,:-1]\n",
    "labels = labels.astype(np.int32)\n",
    "\n",
    "print('Binned label data and its shape is (%d,%d)'%(labels.shape[0],labels.shape[1]))"
   ]
  },
  {
   "cell_type": "code",
   "execution_count": 5,
   "metadata": {},
   "outputs": [
    {
     "name": "stdout",
     "output_type": "stream",
     "text": [
      "Time taken for loading spectrum data= 0.836789 s\n",
      "loaded spectrum data and its shape is (100000,5121)\n",
      "Binned spectra data and its shape is (100000,2560,1)\n"
     ]
    }
   ],
   "source": [
    "start_time=time.time()\n",
    "spectrum_data = np.load('./../binned_data/binned_data_100k.npy') #shape=(examples,length of spectrum)\n",
    "end_time=time.time()\n",
    "print('Time taken for loading spectrum data= %f s'%(end_time-start_time))\n",
    "\n",
    "print('loaded spectrum data and its shape is (%d,%d)'%(spectrum_data.shape[0],spectrum_data.shape[1]))\n",
    "\n",
    "spectrum_data = skimage.measure.block_reduce(spectrum_data,block_size=(1,bin_size),func=np.mean)[:,:-1]\n",
    "spectrum_data = spectrum_data.reshape(spectrum_data.shape[0],spectrum_data.shape[1],1)\n",
    "\n",
    "print('Binned spectra data and its shape is (%d,%d,1)'%(spectrum_data.shape[0],spectrum_data.shape[1]))"
   ]
  },
  {
   "cell_type": "code",
   "execution_count": 6,
   "metadata": {},
   "outputs": [],
   "source": [
    "def positional_enc(X):\n",
    "\n",
    "    X=np.squeeze(X)\n",
    "    X = 2.*X\n",
    "    X = X-1.\n",
    "    pos_enc_sin = np.sin(np.arange(X.shape[1]))\n",
    "    pos_enc_cos = np.cos(np.arange(X.shape[1]))\n",
    "\n",
    "\n",
    "    X_pos    = np.empty((X.shape[0],X.shape[1],2),dtype=np.float32)\n",
    "    X_pos[:,:,0] = X + pos_enc_sin\n",
    "    X_pos[:,:,1] = X + pos_enc_sin\n",
    "\n",
    "    return X_pos\n",
    "\n",
    "\n",
    "\n",
    "if pos_enc ==True:\n",
    "    spectrum_data = positional_enc(spectrum_data)    "
   ]
  },
  {
   "cell_type": "markdown",
   "metadata": {},
   "source": [
    "#### Loading Model and the weights"
   ]
  },
  {
   "cell_type": "code",
   "execution_count": 7,
   "metadata": {},
   "outputs": [
    {
     "name": "stdout",
     "output_type": "stream",
     "text": [
      "Loaded model from disk\n"
     ]
    }
   ],
   "source": [
    "#Path to the model\n",
    "path = './../models/cnn_model_classification__lay_6__ksize_5__psize_3__dilrate_1__dropout_2__0.25__binsize__10__epochs_20__bs_128__train_95k__val_5k___generator_inp_size_2560_test_pos_enc_f_cw_normalized'\n",
    "yaml_file = open('%s/model.yaml'%path, 'r') #Loading model from yaml file \n",
    "loaded_model_yaml = yaml_file.read()\n",
    "yaml_file.close()\n",
    "config = yaml.load(loaded_model_yaml,Loader=yaml.UnsafeLoader)\n",
    "model = deserialize(config)\n",
    "model.load_weights(\"%s/model.h5\"%path) #Loading weights (either model.h5 or checkpoint-(num_epoch)-(val_loss).hdf5)\n",
    "print(\"Loaded model from disk\")"
   ]
  },
  {
   "cell_type": "code",
   "execution_count": 8,
   "metadata": {},
   "outputs": [],
   "source": [
    "example = 95021 #example to visualise or predict the labels\n",
    "#predicted probability array of all outputs\n",
    "pred_prob = model.predict(spectrum_data[example,:].reshape(1,spectrum_data.shape[1],spectrum_data.shape[2]))\n",
    "pred_prob = np.squeeze(np.array(pred_prob))\n",
    "predictied_labels = np.argmax(pred_prob,axis=1)"
   ]
  },
  {
   "cell_type": "code",
   "execution_count": 9,
   "metadata": {},
   "outputs": [
    {
     "data": {
      "text/plain": [
       "(array([-0.5,  0. ,  0.5,  1. ,  1.5,  2. ,  2.5,  3. ,  3.5]),\n",
       " <a list of 9 Text yticklabel objects>)"
      ]
     },
     "execution_count": 9,
     "metadata": {},
     "output_type": "execute_result"
    },
    {
     "data": {
      "image/png": "[encoded data removed]",
      "text/plain": [
       "<Figure size 432x288 with 1 Axes>"
      ]
     },
     "metadata": {
      "needs_background": "light"
     },
     "output_type": "display_data"
    }
   ],
   "source": [
    "plt.plot(labels[example,:],'ro',label='True labels',ms=6)\n",
    "plt.plot(predictied_labels,'bo',label='Predicted labels',ms=2.5)\n",
    "plt.title('Predicted vs True labels for Eg:%d'%example,fontsize=16)\n",
    "plt.legend(loc='center left', bbox_to_anchor=(1, 0.5),fontsize=12)\n",
    "plt.xlabel('bin number (output number)',fontsize=14)\n",
    "plt.ylabel('label',fontsize=14)\n",
    "plt.xticks(fontsize=12)\n",
    "plt.yticks(fontsize=12)"
   ]
  },
  {
   "cell_type": "code",
   "execution_count": 10,
   "metadata": {},
   "outputs": [],
   "source": [
    "num_batchsize  = 128\n",
    "num_train = 90000\n",
    "num_val   = 5000\n",
    "num_test  = 5000\n",
    "evaluation_steps = 20\n",
    "\n",
    "\n",
    "X_val = spectrum_data[num_train:num_train+num_val]\n",
    "y_val = labels[num_train:num_train+num_val]\n",
    "y_val = y_val.T # Reshaping labels array to (num_outputs,num_examples)"
   ]
  },
  {
   "cell_type": "code",
   "execution_count": 11,
   "metadata": {},
   "outputs": [],
   "source": [
    "def valgenerator(X_val, y_val, num_batchsize):\n",
    "    '''\n",
    "    yields validation data with given num_batchsize. \n",
    "    It takes input as X_val and Y_val and yields\n",
    "    batches to fit generator for validation.\n",
    "    '''\n",
    "\n",
    "    num_val = X_val.shape[0]\n",
    "\n",
    "    while 1:\n",
    "        for i in range(num_val//num_batchsize):\n",
    "            z_val = y_val[:,i*num_batchsize:(i+1)*num_batchsize]\n",
    "            print(i)\n",
    "            yield X_val[i*num_batchsize:(i+1)*num_batchsize], list(z_val)\n"
   ]
  },
  {
   "cell_type": "code",
   "execution_count": 13,
   "metadata": {},
   "outputs": [
    {
     "name": "stdout",
     "output_type": "stream",
     "text": [
      "Time taken for compiling = 176.504710 s\n"
     ]
    }
   ],
   "source": [
    "metrics_array = {}\n",
    "loss_array = {}\n",
    "for i in range(1,num_output+1):\n",
    "    name = f'output_{i}'\n",
    "    metrics_array[name] = 'sparse_categorical_accuracy'\n",
    "    loss_array[name] = 'sparse_categorical_crossentropy'\n",
    "    \n",
    "start_time = time.time()\n",
    "model.compile(loss=loss_array,optimizer=tf.keras.optimizers.Adam(),metrics=metrics_array)\n",
    "end_time=time.time()\n",
    "print('Time taken for compiling = %f s'%(end_time-start_time))"
   ]
  },
  {
   "cell_type": "code",
   "execution_count": 14,
   "metadata": {},
   "outputs": [
    {
     "name": "stdout",
     "output_type": "stream",
     "text": [
      "0\n",
      "1\n",
      "2\n",
      "3\n",
      "4\n",
      "5\n",
      "6\n",
      "7\n",
      "8\n",
      "9\n",
      "10\n",
      "11\n",
      "12\n",
      "13\n",
      "14\n",
      "15\n",
      "16\n",
      "17\n",
      "18\n",
      "19\n",
      "20\n",
      "21\n",
      "22\n",
      "23\n",
      "24\n",
      "25\n",
      "26\n",
      "27\n",
      "28\n",
      "29\n",
      "30\n",
      "Time taken for evaluation = 315.894712 s\n"
     ]
    }
   ],
   "source": [
    "start_time = time.time()\n",
    "history = model.evaluate_generator(valgenerator(X_val, y_val, num_batchsize),steps=evaluation_steps)\n",
    "end_time=time.time()\n",
    "print('Time taken for evaluation = %f s'%(end_time-start_time))"
   ]
  },
  {
   "cell_type": "code",
   "execution_count": 15,
   "metadata": {},
   "outputs": [
    {
     "name": "stdout",
     "output_type": "stream",
     "text": [
      "validation loss =  4432.625561523438\n",
      "average accuracy of outputs=  0.11379516619126662\n"
     ]
    }
   ],
   "source": [
    "validation_loss = history[0]\n",
    "print('validation loss = ',validation_loss)\n",
    "\n",
    "average_accuracy=  np.mean(np.array(history)[-spectrum_data.shape[1]:])\n",
    "print('average accuracy of outputs= ',average_accuracy)\n"
   ]
  },
  {
   "cell_type": "code",
   "execution_count": null,
   "metadata": {},
   "outputs": [],
   "source": []
  }
 ],
 "metadata": {
  "kernelspec": {
   "display_name": "Python 3",
   "language": "python",
   "name": "python3"
  },
  "language_info": {
   "codemirror_mode": {
    "name": "ipython",
    "version": 3
   },
   "file_extension": ".py",
   "mimetype": "text/x-python",
   "name": "python",
   "nbconvert_exporter": "python",
   "pygments_lexer": "ipython3",
   "version": "3.7.4"
  }
 },
 "nbformat": 4,
 "nbformat_minor": 2
}
